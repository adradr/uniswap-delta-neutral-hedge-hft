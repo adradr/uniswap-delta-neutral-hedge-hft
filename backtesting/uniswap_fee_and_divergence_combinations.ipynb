{
 "cells": [
  {
   "cell_type": "code",
   "execution_count": 1,
   "metadata": {},
   "outputs": [],
   "source": [
    "import matplotlib.pyplot as plt\n",
    "from uniswap_fee_and_divergence import *"
   ]
  },
  {
   "cell_type": "code",
   "execution_count": 2,
   "metadata": {},
   "outputs": [],
   "source": [
    "dataset = pd.read_csv(\"Backtest_ready_ETHUSDT_1H.csv\", index_col=0, parse_dates=True)\n",
    "\n",
    "# Fee multiplier estimation\n",
    "def estimate_conc_liq_fee_multipler(range_pct: float) -> float:\n",
    "    return USD_FEE_PER_VOLUME * (6 / range_pct)\n",
    "\n",
    "INITIAL_CAPITAL_USD = 100_000\n",
    "EXCHANGE_FEE = 0.0002\n",
    "IS_HEDGED = [True, False]\n",
    "RANGE_PCTS = [10, 9, 8, 7, 6, 5, 4, 3, 2, 1, 0.75, 0.5, 0.25]\n",
    "# 2.01$ from $100 principal over last 10 days (May 28th - June 7th)\n",
    "# Get last 10 day's cumulative volume\n",
    "VOLUME_SUM = dataset[\"volume\"][\"2023-05-28\":\"2023-06-08\"].sum() # type: ignore\n",
    "USD_FEE_CAPITAL_MULTIPLIER = INITIAL_CAPITAL_USD/100\n",
    "USD_FEE_PER_VOLUME = 2.01 / VOLUME_SUM\n",
    "USD_FEE_PER_VOLUME = USD_FEE_PER_VOLUME * USD_FEE_CAPITAL_MULTIPLIER\n"
   ]
  },
  {
   "cell_type": "code",
   "execution_count": 3,
   "metadata": {},
   "outputs": [
    {
     "name": "stderr",
     "output_type": "stream",
     "text": [
      "100%|██████████| 26/26 [00:38<00:00,  1.49s/it]\n"
     ]
    }
   ],
   "source": [
    "import pathos.multiprocessing as mp\n",
    "mp.cpu_count()\n",
    "from pathos.multiprocessing import ProcessingPool as Pool\n",
    "from tqdm import tqdm\n",
    "import itertools\n",
    "\n",
    "\n",
    "# function to run backtest\n",
    "def run_backtest(params):\n",
    "    range_pct, is_hedged = params\n",
    "    backtester = DataBacktester(\n",
    "        data=dataset, \n",
    "        capital_usd=INITIAL_CAPITAL_USD, \n",
    "        range_pct=range_pct, \n",
    "        fee_per_volume=estimate_conc_liq_fee_multipler(range_pct),\n",
    "        exchange_fee=EXCHANGE_FEE,\n",
    "        is_hedged=is_hedged)\n",
    "    \n",
    "    # Run backtest\n",
    "    return {\n",
    "        \"range_pct\": range_pct,\n",
    "        \"is_hedged\": is_hedged,\n",
    "        \"backtester\": backtester.run(),\n",
    "    }\n",
    "\n",
    "# generate all combinations of range_pct and hedge_pct\n",
    "params = list(itertools.product(RANGE_PCTS, IS_HEDGED))\n",
    "\n",
    "# create a multiprocessing Pool with cpu-1 processes\n",
    "cpu_count = int(mp.cpu_count() / 2)\n",
    "pool = Pool(processes=cpu_count)\n",
    "\n",
    "# run the backtests in parallel with a progress bar\n",
    "results = []\n",
    "for result in tqdm(pool.imap(run_backtest, params), total=len(params)):\n",
    "    results.append(result)\n",
    "\n",
    "# close the pool to free up system resources\n",
    "pool.close()\n",
    "pool.join()\n"
   ]
  },
  {
   "cell_type": "code",
   "execution_count": 4,
   "metadata": {},
   "outputs": [],
   "source": [
    "# Save pickle\n",
    "import pickle\n",
    "with open(\"backtest_results.pickle\", \"wb\") as f:\n",
    "    pickle.dump(results, f)"
   ]
  },
  {
   "cell_type": "code",
   "execution_count": null,
   "metadata": {},
   "outputs": [],
   "source": []
  }
 ],
 "metadata": {
  "kernelspec": {
   "display_name": "rand-backtesting",
   "language": "python",
   "name": "python3"
  },
  "language_info": {
   "codemirror_mode": {
    "name": "ipython",
    "version": 3
   },
   "file_extension": ".py",
   "mimetype": "text/x-python",
   "name": "python",
   "nbconvert_exporter": "python",
   "pygments_lexer": "ipython3",
   "version": "3.9.16"
  },
  "orig_nbformat": 4,
  "vscode": {
   "interpreter": {
    "hash": "0d92e6141c04a155f812ca3d55a515ba2e02be80b0b7d767f4316970c8f34aaf"
   }
  }
 },
 "nbformat": 4,
 "nbformat_minor": 2
}
